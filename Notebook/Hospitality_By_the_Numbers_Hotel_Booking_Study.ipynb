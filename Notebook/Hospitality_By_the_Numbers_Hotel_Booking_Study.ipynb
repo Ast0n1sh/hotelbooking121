{
  "nbformat": 4,
  "nbformat_minor": 0,
  "metadata": {
    "colab": {
      "private_outputs": true,
      "provenance": [],
      "collapsed_sections": [
        "9clO-0BVxs4T",
        "gIfDvo9L0UH2"
      ]
    },
    "kernelspec": {
      "name": "python3",
      "display_name": "Python 3"
    },
    "language_info": {
      "name": "python"
    }
  },
  "cells": [
    {
      "cell_type": "markdown",
      "source": [
        "# **Project Name**    - Hospitality By the Numbers: Hotel Booking Study\n"
      ],
      "metadata": {
        "id": "vncDsAP0Gaoa"
      }
    },
    {
      "cell_type": "markdown",
      "source": [
        "##### **Project Type**    - EDA\n",
        "##### **Contribution**    - Individual\n",
        "##### **Member -** Nishant Sharma"
      ],
      "metadata": {
        "id": "beRrZCGUAJYm"
      }
    },
    {
      "cell_type": "markdown",
      "source": [
        "# **Project Summary -**"
      ],
      "metadata": {
        "id": "FJNUwmbgGyua"
      }
    },
    {
      "cell_type": "markdown",
      "source": [
        "The aim of this project is to explore and analyze a comprehensive hotel booking dataset, comprising information from both a city hotel and a resort hotel. The dataset includes diverse variables such as booking date, length of stay, the count of adults, children, and babies, and the availability of parking spaces, among other relevant factors.\n",
        "\n",
        "1. The primary focus of this analysis is to answer crucial questions that can provide valuable insights to both hotel management and potential guests. The main research areas are as follows:\n",
        "\n",
        "2. Optimal Booking Time: Determine the best time of the year to book a hotel room to secure the most competitive rates. Analyzing historical booking patterns can unveil seasonal trends, allowing businesses to optimize pricing strategies.\n",
        "\n",
        "3. Length of Stay Optimization: Investigate the relationship between the length of stay and the daily room rate. Identify patterns indicating optimal durations for the best value-for-money options.\n",
        "\n",
        "4. Special Request Predictions: Develop a predictive model to forecast whether a hotel is likely to receive an unusually high number of special requests based on specific factors like booking time, hotel type, and guest demographics. This information can assist hotels in enhancing their services and resource planning.\n",
        "\n",
        "The dataset's richness enables a comprehensive exploration of factors influencing hotel bookings and can contribute significantly to decision-making processes within the hospitality industry. Employing advanced data analysis and machine learning techniques, this project seeks to unveil patterns, correlations, and potential predictors that drive hotel booking behaviors.\n",
        "\n",
        "By delving into this dataset, we aspire to deliver actionable insights that empower hotels to optimize their offerings, enhance guest experiences, and improve overall business efficiency. Additionally, travelers can benefit from understanding the most opportune times to book, leading to enhanced satisfaction and better-informed travel planning."
      ],
      "metadata": {
        "id": "F6v_1wHtG2nS"
      }
    },
    {
      "cell_type": "markdown",
      "source": [
        "# **GitHub Link -**"
      ],
      "metadata": {
        "id": "w6K7xa23Elo4"
      }
    },
    {
      "cell_type": "markdown",
      "source": [
        "Provide your GitHub Link here.\n",
        "\n",
        "https://github.com/Ast0n1sh/Project-X-by-nishant"
      ],
      "metadata": {
        "id": "h1o69JH3Eqqn"
      }
    },
    {
      "cell_type": "markdown",
      "source": [
        "# **Problem Statement**\n"
      ],
      "metadata": {
        "id": "yQaldy8SH6Dl"
      }
    },
    {
      "cell_type": "markdown",
      "source": [
        "The hospitality industry faces challenges in understanding guest behavior and optimizing hotel operations. To address these challenges, we aim to analyze a comprehensive hotel booking dataset comprising information from both city and resort hotels. This dataset includes variables such as booking date, length of stay, the number of adults, children, and babies, and the availability of parking spaces, among others.\n",
        "\n",
        "The primary goal of this project is to answer essential questions that can provide valuable insights to hotel management and potential guests. The specific problems to be addressed are as follows:\n",
        "\n",
        "* Optimal Booking Time\n",
        "\n",
        "* Length of Stay Optimization\n",
        "\n",
        "* Special Request Predictions\n",
        "\n",
        "* Additional Ideas\n",
        "\n",
        "To tackle these challenges, we will employ advanced data analysis and machine learning techniques. The project's outcomes will provide valuable insights into factors influencing hotel bookings, enabling data-driven decision-making for hotels and empowering travelers to make more informed choices while planning their stays.\n",
        "\n",
        "The success of this analysis will contribute significantly to the growth and efficiency of the hospitality industry by facilitating better resource allocation, enhancing guest experiences, and enabling hotels to offer competitive services."
      ],
      "metadata": {
        "id": "DpeJGUA3kjGy"
      }
    },
    {
      "cell_type": "markdown",
      "source": [
        "#### **Define Your Business Objective?**"
      ],
      "metadata": {
        "id": "PH-0ReGfmX4f"
      }
    },
    {
      "cell_type": "markdown",
      "source": [
        "The primary business objective of this project is to leverage the hotel booking dataset to enhance the efficiency and competitiveness of the hospitality industry. By conducting a comprehensive analysis of booking information from city and resort hotels, the project aims to achieve the following key objectives:\n",
        "\n",
        "1. Data-Driven Insights: Utilize data analysis and machine learning techniques to derive valuable insights and patterns from the dataset. These insights will provide actionable information to hotel management, allowing them to make informed decisions and optimize their operations.\n",
        "\n",
        "2. Pricing Strategy Optimization: Identify the optimal time of the year for guests to book hotel rooms and recommend pricing strategies based on historical booking patterns. This objective aims to attract more customers during specific seasons and enhance revenue generation.\n",
        "\n",
        "3. Enhanced Guest Experiences: Develop a predictive model to anticipate special requests and personalized requirements from guests. By doing so, hotels can provide tailored services, improving overall guest satisfaction and loyalty.\n",
        "\n",
        "4. Competitive Advantage: Provide hotels with a competitive advantage by enabling them to offer attractive packages based on the relationship between length of stay and daily room rates. This objective aims to attract more guests and increase market share.\n",
        "\n",
        "5. Traveler Empowerment: Empower travelers with insights into the best times to book hotels, leading to better-informed travel planning and enhanced satisfaction during their stays.\n",
        "\n",
        "By achieving these business objectives, this project will contribute to the growth and success of the hospitality industry by fostering data-driven decision-making, improved resource allocation, and elevated guest experiences. Ultimately, the project aims to create a win-win situation for both hotels and travelers, optimizing business operations while offering enhanced value to customers."
      ],
      "metadata": {
        "id": "PhDvGCAqmjP1"
      }
    },
    {
      "cell_type": "markdown",
      "source": [
        "# **General Guidelines** : -  "
      ],
      "metadata": {
        "id": "mDgbUHAGgjLW"
      }
    },
    {
      "cell_type": "markdown",
      "source": [
        "1.   Well-structured, formatted, and commented code is required.\n",
        "2.   Exception Handling, Production Grade Code & Deployment Ready Code will be a plus. Those students will be awarded some additional credits.\n",
        "     \n",
        "     The additional credits will have advantages over other students during Star Student selection.\n",
        "       \n",
        "             [ Note: - Deployment Ready Code is defined as, the whole .ipynb notebook should be executable in one go\n",
        "                       without a single error logged. ]\n",
        "\n",
        "3.   Each and every logic should have proper comments.\n",
        "4. You may add as many number of charts you want. Make Sure for each and every chart the following format should be answered.\n",
        "        \n",
        "\n",
        "```\n",
        "# Chart visualization code\n",
        "```\n",
        "            \n",
        "\n",
        "*   Why did you pick the specific chart?\n",
        "*   What is/are the insight(s) found from the chart?\n",
        "* Will the gained insights help creating a positive business impact?\n",
        "Are there any insights that lead to negative growth? Justify with specific reason.\n",
        "\n",
        "5. You have to create at least 20 logical & meaningful charts having important insights.\n",
        "\n",
        "\n",
        "[ Hints : - Do the Vizualization in  a structured way while following \"UBM\" Rule.\n",
        "\n",
        "U - Univariate Analysis,\n",
        "\n",
        "B - Bivariate Analysis (Numerical - Categorical, Numerical - Numerical, Categorical - Categorical)\n",
        "\n",
        "M - Multivariate Analysis\n",
        " ]\n",
        "\n",
        "\n",
        "\n"
      ],
      "metadata": {
        "id": "ZrxVaUj-hHfC"
      }
    },
    {
      "cell_type": "markdown",
      "source": [
        "# ***Let's Begin !***"
      ],
      "metadata": {
        "id": "O_i_v8NEhb9l"
      }
    },
    {
      "cell_type": "markdown",
      "source": [
        "## ***1. Know Your Data***"
      ],
      "metadata": {
        "id": "HhfV-JJviCcP"
      }
    },
    {
      "cell_type": "markdown",
      "source": [
        "### Import Libraries"
      ],
      "metadata": {
        "id": "Y3lxredqlCYt"
      }
    },
    {
      "cell_type": "code",
      "source": [
        "# Import Libraries\n",
        "import numpy as np\n",
        "import pandas as pd\n",
        "import matplotlib.pyplot as plt\n",
        "import seaborn as sns\n",
        "\n",
        "# Setting to display all columns of the dataframe in outputs\n",
        "pd.set_option('display.max_columns', None)"
      ],
      "metadata": {
        "id": "M8Vqi-pPk-HR"
      },
      "execution_count": null,
      "outputs": []
    },
    {
      "cell_type": "markdown",
      "source": [
        "### Dataset Loading"
      ],
      "metadata": {
        "id": "3RnN4peoiCZX"
      }
    },
    {
      "cell_type": "code",
      "source": [
        "# Load Dataset\n",
        "from google.colab import drive\n",
        "drive.mount('/content/drive')"
      ],
      "metadata": {
        "id": "2f3CFO3PURm8"
      },
      "execution_count": null,
      "outputs": []
    },
    {
      "cell_type": "markdown",
      "source": [
        "### Dataset First View"
      ],
      "metadata": {
        "id": "x71ZqKXriCWQ"
      }
    },
    {
      "cell_type": "code",
      "source": [
        "# Dataset First Look\n",
        "dataset = pd.read_csv('/content/drive/MyDrive/Project X Raw Data/Hotel Bookings.csv')\n",
        "display(dataset.head())"
      ],
      "metadata": {
        "id": "LWNFOSvLl09H"
      },
      "execution_count": null,
      "outputs": []
    },
    {
      "cell_type": "markdown",
      "source": [
        "### Dataset Rows & Columns count"
      ],
      "metadata": {
        "id": "7hBIi_osiCS2"
      }
    },
    {
      "cell_type": "code",
      "source": [
        "# Dataset Rows & Columns count\n",
        "# Getting the shape of the dataset\n",
        "dataset_shape = dataset.shape\n",
        "dataset_shape"
      ],
      "metadata": {
        "id": "Kllu7SJgmLij"
      },
      "execution_count": null,
      "outputs": []
    },
    {
      "cell_type": "markdown",
      "source": [
        "The Data Set has 119390 Rows and 32 Columns"
      ],
      "metadata": {
        "id": "sEsR53OxsYQx"
      }
    },
    {
      "cell_type": "markdown",
      "source": [
        "### Dataset Information"
      ],
      "metadata": {
        "id": "JlHwYmJAmNHm"
      }
    },
    {
      "cell_type": "code",
      "source": [
        "# Dataset Info\n",
        "# Getting the information about the dataset\n",
        "dataset_info = dataset.info()\n",
        "dataset_info"
      ],
      "metadata": {
        "id": "e9hRXRi6meOf"
      },
      "execution_count": null,
      "outputs": []
    },
    {
      "cell_type": "markdown",
      "source": [
        "#### Duplicate Values"
      ],
      "metadata": {
        "id": "35m5QtbWiB9F"
      }
    },
    {
      "cell_type": "code",
      "source": [
        "# Dataset Duplicate Value Count\n",
        "duplicate_count = dataset.duplicated().sum()\n",
        "duplicate_count"
      ],
      "metadata": {
        "id": "1sLdpKYkmox0"
      },
      "execution_count": null,
      "outputs": []
    },
    {
      "cell_type": "markdown",
      "source": [
        "#### Missing Values/Null Values"
      ],
      "metadata": {
        "id": "PoPl-ycgm1ru"
      }
    },
    {
      "cell_type": "code",
      "source": [
        "# Missing Values/Null Values Count\n",
        "missing_values = dataset.isnull().sum()\n",
        "missing_values"
      ],
      "metadata": {
        "id": "GgHWkxvamxVg"
      },
      "execution_count": null,
      "outputs": []
    },
    {
      "cell_type": "code",
      "source": [
        "# Visualizing the missing values\n",
        "plt.figure(figsize=(15, 10))\n",
        "sns.heatmap(dataset.isnull(), cbar=False, cmap='viridis', yticklabels=False)\n",
        "plt.title('Missing Value Heatmap')\n",
        "plt.show()"
      ],
      "metadata": {
        "id": "3q5wnI3om9sJ"
      },
      "execution_count": null,
      "outputs": []
    },
    {
      "cell_type": "markdown",
      "source": [
        "### What did you know about your dataset?"
      ],
      "metadata": {
        "id": "H0kj-8xxnORC"
      }
    },
    {
      "cell_type": "markdown",
      "source": [
        "From our analysis till now, here are the observations:\n",
        "\n",
        "* The dataset comprises 119,390 rows and 32 columns.\n",
        "* There are several columns with missing values, with the 'company' column having the most missing values.\n",
        "* The dataset contains 31,994 duplicate rows.\n",
        "* A mix of data types is present, including integers, floats, and objects (strings).\n",
        "* Some columns like 'agent' and 'company' have a significant number of missing values, as visualized in the heatmap."
      ],
      "metadata": {
        "id": "gfoNAAC-nUe_"
      }
    },
    {
      "cell_type": "markdown",
      "source": [
        "## ***2. Understanding Your Variables***"
      ],
      "metadata": {
        "id": "nA9Y7ga8ng1Z"
      }
    },
    {
      "cell_type": "code",
      "source": [
        "# Dataset Columns\n",
        "dataset_columns = dataset.columns\n",
        "dataset_columns"
      ],
      "metadata": {
        "id": "j7xfkqrt5Ag5"
      },
      "execution_count": null,
      "outputs": []
    },
    {
      "cell_type": "code",
      "source": [
        "# Dataset Describe\n",
        "dataset_description = dataset.describe()\n",
        "dataset_description"
      ],
      "metadata": {
        "id": "DnOaZdaE5Q5t"
      },
      "execution_count": null,
      "outputs": []
    },
    {
      "cell_type": "markdown",
      "source": [
        "### Variables Description"
      ],
      "metadata": {
        "id": "PBTbrJXOngz2"
      }
    },
    {
      "cell_type": "markdown",
      "source": [
        "1. hotel: Type of hotel (Resort Hotel or City Hotel).\n",
        "2. is_canceled: Indicates if the booking was canceled (1 if canceled, 0 otherwise).\n",
        "3. lead_time: Number of days between the booking date and the arrival date.\n",
        "4. arrival_date_year: Year of the arrival date.\n",
        "5. arrival_date_month: Month of the arrival date.\n",
        "6. arrival_date_week_number: Week number of the year for the arrival date.\n",
        "7. arrival_date_day_of_month: Day of the month of the arrival date.\n",
        "8. stays_in_weekend_nights: Number of weekend nights (Saturday or Sunday) the guest stayed or booked to stay.\n",
        "9. stays_in_week_nights: Number of week nights (Monday to Friday) the guest stayed or booked to stay.\n",
        "10. adults: Number of adults.\n",
        "11. children: Number of children.\n",
        "12. babies: Number of babies.\n",
        "13. meal: Type of meal booked.\n",
        "14. country: Country of origin of the booking.\n",
        "15. market_segment: Market segment designation.\n",
        "16. distribution_channel: Booking distribution channel.\n",
        "17. is_repeated_guest: Indicates if the booking name is a repeated guest (1 if true, 0 otherwise).\n",
        "18. previous_cancellations: Number of previous bookings that were canceled by the customer.\n",
        "19. previous_bookings_not_canceled: Number of previous bookings not canceled by the customer.\n",
        "20. reserved_room_type: Code of the room type reserved.\n",
        "21. assigned_room_type: Code for the type of room assigned to the booking.\n",
        "22. booking_changes: Number of changes made to the booking.\n",
        "23. deposit_type: Type of deposit made.\n",
        "24. agent: ID of the travel agency that made the booking.\n",
        "25. company: ID of the company/entity that made the booking or responsible for paying the booking.\n",
        "26. days_in_waiting_list: Number of days the booking was in the waiting list before it was confirmed.\n",
        "27. customer_type: Type of booking (e.g., Contract, Group, Transient).\n",
        "28. adr: Average Daily Rate.\n",
        "29. required_car_parking_spaces: Number of parking spaces required by the customer.\n",
        "30. total_of_special_requests: Number of special requests made by the customer.\n",
        "31. reservation_status: Last reservation status (e.g., Canceled, Check-Out, No-Show).\n",
        "32. reservation_status_date: Date when the last status was set."
      ],
      "metadata": {
        "id": "aJV4KIxSnxay"
      }
    },
    {
      "cell_type": "markdown",
      "source": [
        "### Check Unique Values for each variable."
      ],
      "metadata": {
        "id": "u3PMJOP6ngxN"
      }
    },
    {
      "cell_type": "code",
      "source": [
        "# Check Unique Values for each variable\n",
        "unique_values = dataset.nunique()\n",
        "unique_values"
      ],
      "metadata": {
        "id": "zms12Yq5n-jE"
      },
      "execution_count": null,
      "outputs": []
    },
    {
      "cell_type": "markdown",
      "source": [
        "## 3. ***Data Wrangling***"
      ],
      "metadata": {
        "id": "dauF4eBmngu3"
      }
    },
    {
      "cell_type": "markdown",
      "source": [
        "### Data Wrangling Code"
      ],
      "metadata": {
        "id": "bKJF3rekwFvQ"
      }
    },
    {
      "cell_type": "code",
      "source": [
        "# Write your code to make your dataset analysis ready.\n",
        "# 1. Removing duplicate rows\n",
        "dataset_cleaned = dataset.drop_duplicates()\n",
        "\n",
        "# 2. Handling missing values\n",
        "# For 'company' and 'agent', replacing NaN values with a placeholder '0' (indicating no company or agent)\n",
        "dataset_cleaned['company'].fillna(0, inplace=True)\n",
        "dataset_cleaned['agent'].fillna(0, inplace=True)\n",
        "\n",
        "# For 'country' and 'children', replacing NaN values with the mode of the respective columns\n",
        "dataset_cleaned['country'].fillna(dataset_cleaned['country'].mode()[0], inplace=True)\n",
        "dataset_cleaned['children'].fillna(dataset_cleaned['children'].mode()[0], inplace=True)\n",
        "\n",
        "# 3. Converting 'reservation_status_date' to datetime format\n",
        "dataset_cleaned['reservation_status_date'] = pd.to_datetime(dataset_cleaned['reservation_status_date'])\n",
        "\n",
        "# Display the cleaned dataset's info to verify the changes\n",
        "dataset_cleaned_info = dataset_cleaned.info()\n",
        "dataset_cleaned_info"
      ],
      "metadata": {
        "id": "qXGx5Kkau0lZ"
      },
      "execution_count": null,
      "outputs": []
    },
    {
      "cell_type": "code",
      "source": [
        "# Derived Features\n",
        "dataset_cleaned['total_stay'] = dataset_cleaned['stays_in_weekend_nights'] + dataset_cleaned['stays_in_week_nights']\n",
        "dataset_cleaned['total_guests'] = dataset_cleaned['adults'] + dataset_cleaned['children'] + dataset_cleaned['babies']\n",
        "\n",
        "# Extracting date features\n",
        "dataset_cleaned['year'] = dataset_cleaned['reservation_status_date'].dt.year\n",
        "dataset_cleaned['month'] = dataset_cleaned['reservation_status_date'].dt.month\n",
        "dataset_cleaned['day'] = dataset_cleaned['reservation_status_date'].dt.day\n",
        "\n",
        "# Display the first few rows of the dataset to verify the changes\n",
        "dataset_cleaned.head()"
      ],
      "metadata": {
        "id": "Q6n8eCdgV0VM"
      },
      "execution_count": null,
      "outputs": []
    },
    {
      "cell_type": "markdown",
      "source": [
        "### What all manipulations have you done and insights you found?"
      ],
      "metadata": {
        "id": "MSa1f5Uengrz"
      }
    },
    {
      "cell_type": "markdown",
      "source": [
        "The mandatory data wrangling tasks have been performed:\n",
        "\n",
        "* Duplicate rows were removed, reducing the dataset from 119,390 to 87,396 entries.\n",
        "* Missing values in the 'company', 'agent', 'country', and 'children' columns have been handled.\n",
        "* The 'reservation_status_date' column has been converted to a datetime format.\n",
        "Further Considerations:\n",
        "\n",
        "* Outliers: We should inspect certain columns like 'lead_time', 'stays_in_weekend_nights', 'stays_in_week_nights', 'adults', 'children', 'babies', and 'adr' for potential outliers.\n",
        "* Feature Engineering: Based on the analysis, we might want to create new features or transform existing ones to better serve our analysis or modeling purposes.\n",
        "\n",
        "### Feature Addition\n",
        "\n",
        "The new features have been successfully added to the dataset:\n",
        "\n",
        "* Derived Features:\n",
        "total_stay: Represents the total length of stay combining weekend and weeknight stays.\n",
        "total_guests: Represents the total number of guests by adding adults, children, and babies.\n",
        "\n",
        "* Date Features extracted from reservation_status_date:\n",
        "year: Year of the reservation status date.\n",
        "month: Month of the reservation status date.\n",
        "day: Day of the reservation status date.\n",
        "\n",
        "With these new features, we can gain additional insights during the EDA."
      ],
      "metadata": {
        "id": "LbyXE7I1olp8"
      }
    },
    {
      "cell_type": "markdown",
      "source": [
        "## ***4. Data Vizualization, Storytelling & Experimenting with charts : Understand the relationships between variables***"
      ],
      "metadata": {
        "id": "GF8Ens_Soomf"
      }
    },
    {
      "cell_type": "markdown",
      "source": [
        "#### Chart - 1: Hotel Type vs. Number of Bookings"
      ],
      "metadata": {
        "id": "0wOQAZs5pc--"
      }
    },
    {
      "cell_type": "code",
      "source": [
        "# Plotting the number of bookings for each hotel type\n",
        "plt.figure(figsize=(8, 6))\n",
        "sns.countplot(data=dataset_cleaned, x='hotel', palette='viridis')\n",
        "plt.title('Number of Bookings for Each Hotel Type')\n",
        "plt.ylabel('Number of Bookings')\n",
        "plt.xlabel('Hotel Type')\n",
        "plt.show()"
      ],
      "metadata": {
        "id": "1f3C18tVXUhJ"
      },
      "execution_count": null,
      "outputs": []
    },
    {
      "cell_type": "markdown",
      "source": [
        "##### 1. Why did you pick the specific chart?"
      ],
      "metadata": {
        "id": "K5QZ13OEpz2H"
      }
    },
    {
      "cell_type": "markdown",
      "source": [
        "A bar chart is a simple and effective way to compare the frequency of a categorical variable. Here, we wanted to compare the number of bookings between the two types of hotels."
      ],
      "metadata": {
        "id": "XESiWehPqBRc"
      }
    },
    {
      "cell_type": "markdown",
      "source": [
        "##### 2. What is/are the insight(s) found from the chart?"
      ],
      "metadata": {
        "id": "lQ7QKXXCp7Bj"
      }
    },
    {
      "cell_type": "markdown",
      "source": [
        "City hotels have a significantly higher number of bookings compared to resort hotels."
      ],
      "metadata": {
        "id": "C_j1G7yiqdRP"
      }
    },
    {
      "cell_type": "markdown",
      "source": [
        "##### 3. Will the gained insights help creating a positive business impact?\n"
      ],
      "metadata": {
        "id": "448CDAPjqfQr"
      }
    },
    {
      "cell_type": "markdown",
      "source": [
        "Yes. This insight indicates a higher demand for city hotels. This could be due to various reasons, such as city hotels being located in business hubs or densely populated areas. Recognizing this demand, hotel management could:\n",
        "- Consider expanding the capacity of city hotels.\n",
        "- Review pricing strategies to maximize revenue.\n",
        "- Investigate why city hotels are more popular and see if some of those factors can be incorporated into resort hotels.\n",
        "\n",
        "A potential negative impact could be that resort hotels might not be getting their desired occupancy. This could lead to reduced revenue for resort hotels, and the reasons for the lower bookings should be further investigated."
      ],
      "metadata": {
        "id": "3cspy4FjqxJW"
      }
    },
    {
      "cell_type": "markdown",
      "source": [
        "#### Chart - 2: Number of Bookings vs. Month"
      ],
      "metadata": {
        "id": "KSlN3yHqYklG"
      }
    },
    {
      "cell_type": "code",
      "source": [
        "# Plotting the number of bookings for each month\n",
        "plt.figure(figsize=(12, 7))\n",
        "order_months = ['January', 'February', 'March', 'April', 'May', 'June', 'July', 'August', 'September', 'October', 'November', 'December']\n",
        "sns.countplot(data=dataset_cleaned, x='arrival_date_month', order=order_months, palette='viridis')\n",
        "plt.title('Number of Bookings per Month')\n",
        "plt.ylabel('Number of Bookings')\n",
        "plt.xlabel('Month')\n",
        "plt.xticks(rotation=45)\n",
        "plt.show()"
      ],
      "metadata": {
        "id": "zNzSPWIOUzqi"
      },
      "execution_count": null,
      "outputs": []
    },
    {
      "cell_type": "markdown",
      "source": [
        "##### 1. Why did you pick the specific chart?"
      ],
      "metadata": {
        "id": "t6dVpIINYklI"
      }
    },
    {
      "cell_type": "markdown",
      "source": [
        "A bar chart is suitable for comparing the frequency of bookings across different months. It helps visualize monthly variations in bookings."
      ],
      "metadata": {
        "id": "5aaW0BYyYklI"
      }
    },
    {
      "cell_type": "markdown",
      "source": [
        "##### 2. What is/are the insight(s) found from the chart?"
      ],
      "metadata": {
        "id": "ijmpgYnKYklI"
      }
    },
    {
      "cell_type": "markdown",
      "source": [
        "* The months of July and August have the highest number of bookings, indicating peak travel or vacation season during these months.\n",
        "* The winter months, especially January, have the lowest number of bookings."
      ],
      "metadata": {
        "id": "PSx9atu2YklI"
      }
    },
    {
      "cell_type": "markdown",
      "source": [
        "##### 3. Will the gained insights help creating a positive business impact?\n",
        "\n",
        "Yes. Recognizing these seasonal trends can aid hotel management in several ways:\n",
        "* They can optimize pricing, offering discounts during off-peak months to boost occupancy and hiking prices during peak months.\n",
        "* Staffing and inventory (like food and beverages) can be adjusted based on expected occupancy.\n",
        "* Marketing campaigns can be timed to promote bookings during typically slower months.\n",
        "\n",
        "While the insight shows potential for higher revenue during peak months, there's also a challenge of ensuring high-quality service during these busy times. If not managed well, peak seasons could lead to negative guest reviews due to overbookings, staff being overwhelmed, or resource shortages."
      ],
      "metadata": {
        "id": "F8QDc8e7QkqC"
      }
    },
    {
      "cell_type": "markdown",
      "source": [
        "#### Chart - 3: Booking Cancellations by Hotel Type"
      ],
      "metadata": {
        "id": "EM7whBJCYoAo"
      }
    },
    {
      "cell_type": "code",
      "source": [
        "# Plotting the number of bookings vs cancellations for each hotel type\n",
        "plt.figure(figsize=(10, 7))\n",
        "sns.countplot(data=dataset_cleaned, x='hotel', hue='is_canceled', palette='viridis')\n",
        "plt.title('Booking Cancellations by Hotel Type')\n",
        "plt.ylabel('Number of Bookings')\n",
        "plt.xlabel('Hotel Type')\n",
        "plt.legend(title='Booking Canceled', loc='upper right', labels=['Not Canceled', 'Canceled'])\n",
        "plt.show()"
      ],
      "metadata": {
        "id": "t6GMdE67YoAp"
      },
      "execution_count": null,
      "outputs": []
    },
    {
      "cell_type": "markdown",
      "source": [
        "##### 1. Why did you pick the specific chart?"
      ],
      "metadata": {
        "id": "fge-S5ZAYoAp"
      }
    },
    {
      "cell_type": "markdown",
      "source": [
        "A bar chart with hue differentiation allows us to compare two categorical variables (in this case, hotel type and whether the booking was canceled). This visualization gives a clear picture of cancellations across hotel types."
      ],
      "metadata": {
        "id": "5dBItgRVYoAp"
      }
    },
    {
      "cell_type": "markdown",
      "source": [
        "##### 2. What is/are the insight(s) found from the chart?"
      ],
      "metadata": {
        "id": "85gYPyotYoAp"
      }
    },
    {
      "cell_type": "markdown",
      "source": [
        "* City hotels not only have a higher number of bookings compared to resort hotels but also a significantly higher number of cancellations.\n",
        "* The proportion of cancellations is notably higher for city hotels than for resort hotels."
      ],
      "metadata": {
        "id": "4jstXR6OYoAp"
      }
    },
    {
      "cell_type": "markdown",
      "source": [
        "##### 3. Will the gained insights help creating a positive business impact?\n",
        "\n",
        "Yes. Knowing the high cancellation rate, especially for city hotels, management can:\n",
        "* Investigate the reasons for these cancellations: Are there any common factors or patterns?\n",
        "* Implement strategies to reduce cancellations, such as offering non-refundable booking rates at a discount or loyalty programs to encourage completion of stay.\n",
        "* Improve demand forecasting by taking into account the historical cancellation rates.\n",
        "\n",
        "The negative impact here is evident: high cancellations mean potential lost revenue. It also makes demand forecasting challenging and can lead to resource wastage (like overstaffing on days with high cancellations)."
      ],
      "metadata": {
        "id": "RoGjAbkUYoAp"
      }
    },
    {
      "cell_type": "markdown",
      "source": [
        "#### Chart - 4: Distribution of Lead Time\n"
      ],
      "metadata": {
        "id": "U2RJ9gkRphqQ"
      }
    },
    {
      "cell_type": "code",
      "source": [
        "# Plotting the distribution of lead time\n",
        "plt.figure(figsize=(10, 7))\n",
        "sns.histplot(dataset_cleaned['lead_time'], bins=50, color='blue', kde=True)\n",
        "plt.title('Distribution of Lead Time (Days between Booking and Arrival)')\n",
        "plt.ylabel('Number of Bookings')\n",
        "plt.xlabel('Lead Time (Days)')\n",
        "plt.show()"
      ],
      "metadata": {
        "id": "GM7a4YP4phqQ"
      },
      "execution_count": null,
      "outputs": []
    },
    {
      "cell_type": "markdown",
      "source": [
        "##### 1. Why did you pick the specific chart?"
      ],
      "metadata": {
        "id": "1M8mcRywphqQ"
      }
    },
    {
      "cell_type": "markdown",
      "source": [
        "A histogram, combined with a Kernel Density Estimation (KDE), is an effective way to visualize the distribution of a continuous variable. In this case, it provides insights into how far in advance bookings are typically made."
      ],
      "metadata": {
        "id": "8agQvks0phqQ"
      }
    },
    {
      "cell_type": "markdown",
      "source": [
        "##### 2. What is/are the insight(s) found from the chart?"
      ],
      "metadata": {
        "id": "tgIPom80phqQ"
      }
    },
    {
      "cell_type": "markdown",
      "source": [
        "* A significant number of bookings are made with a very short lead time, even on the same day of arrival.\n",
        "* There's a gradual decrease in bookings as the lead time increases, with a few spikes observed at specific intervals, which might be indicative of people booking well in advance for holidays or specific events."
      ],
      "metadata": {
        "id": "Qp13pnNzphqQ"
      }
    },
    {
      "cell_type": "markdown",
      "source": [
        "##### 3. Will the gained insights help creating a positive business impact?\n",
        "Are there any insights that lead to negative growth? Justify with specific reason."
      ],
      "metadata": {
        "id": "JMzcOPDDphqR"
      }
    },
    {
      "cell_type": "markdown",
      "source": [
        "Yes. Knowing the lead time distribution can assist hotel management in various ways:\n",
        "* Improve inventory management and staffing decisions. For instance, if many bookings are made at the last minute, the hotel needs to be prepared for such scenarios.\n",
        "* Design targeted marketing campaigns. For example, last-minute deals to entice those who book just a few days before arrival.\n",
        "\n",
        "However, a high number of last-minute bookings can also pose challenges, such as unpredictable demand or potential overbookings during peak times."
      ],
      "metadata": {
        "id": "R4Ka1PC2phqR"
      }
    },
    {
      "cell_type": "markdown",
      "source": [
        "#### Chart - 5: Average Daily Rate (ADR) Distribution"
      ],
      "metadata": {
        "id": "x-EpHcCOp1ci"
      }
    },
    {
      "cell_type": "code",
      "source": [
        "# Plotting the distribution of Average Daily Rate (ADR)\n",
        "plt.figure(figsize=(10, 7))\n",
        "sns.histplot(dataset_cleaned['adr'], bins=50, color='green', kde=True)\n",
        "plt.title('Distribution of Average Daily Rate (ADR)')\n",
        "plt.ylabel('Number of Bookings')\n",
        "plt.xlabel('Average Daily Rate (ADR)')\n",
        "plt.show()"
      ],
      "metadata": {
        "id": "mAQTIvtqp1cj"
      },
      "execution_count": null,
      "outputs": []
    },
    {
      "cell_type": "markdown",
      "source": [
        "##### 1. Why did you pick the specific chart?"
      ],
      "metadata": {
        "id": "X_VqEhTip1ck"
      }
    },
    {
      "cell_type": "markdown",
      "source": [
        "A histogram with a Kernel Density Estimation (KDE) is ideal for understanding the distribution of continuous variables. In this context, it provides insights into the pricing trends across bookings."
      ],
      "metadata": {
        "id": "-vsMzt_np1ck"
      }
    },
    {
      "cell_type": "markdown",
      "source": [
        "##### 2. What is/are the insight(s) found from the chart?"
      ],
      "metadata": {
        "id": "8zGJKyg5p1ck"
      }
    },
    {
      "cell_type": "markdown",
      "source": [
        "* Most of the bookings have an Average Daily Rate (ADR) between $50 and $150.\n",
        "* There's a noticeable spike around the $100 mark, suggesting that many rooms are priced around this value or there are special deals/promotions at this rate."
      ],
      "metadata": {
        "id": "ZYdMsrqVp1ck"
      }
    },
    {
      "cell_type": "markdown",
      "source": [
        "##### 3. Will the gained insights help creating a positive business impact?\n",
        "Are there any insights that lead to negative growth? Justify with specific reason."
      ],
      "metadata": {
        "id": "PVzmfK_Ep1ck"
      }
    },
    {
      "cell_type": "markdown",
      "source": [
        "Yes. Understanding the ADR distribution is crucial for revenue management.\n",
        "* It helps hotel management to gauge the most accepted price points by customers.\n",
        "* Pricing strategies can be refined based on this distribution to optimize occupancy and revenue.\n",
        "* Special promotions or package deals can be designed around popular price points.\n",
        "\n",
        "On the flip side, if the ADR is too low for a significant portion of bookings, it could indicate underpricing, leading to potential revenue loss. Conversely, very high ADRs with low bookings might indicate overpricing, driving potential customers away."
      ],
      "metadata": {
        "id": "druuKYZpp1ck"
      }
    },
    {
      "cell_type": "markdown",
      "source": [
        "#### Chart - 6: Number of Special Requests by Hotel Type"
      ],
      "metadata": {
        "id": "n3dbpmDWp1ck"
      }
    },
    {
      "cell_type": "code",
      "source": [
        "# Plotting the number of special requests by hotel type\n",
        "plt.figure(figsize=(12, 7))\n",
        "sns.countplot(data=dataset_cleaned, x='total_of_special_requests', hue='hotel', palette='viridis')\n",
        "plt.title('Number of Special Requests by Hotel Type')\n",
        "plt.ylabel('Number of Bookings')\n",
        "plt.xlabel('Number of Special Requests')\n",
        "plt.legend(title='Hotel Type', loc='upper right')\n",
        "plt.show()"
      ],
      "metadata": {
        "id": "bwevp1tKp1ck"
      },
      "execution_count": null,
      "outputs": []
    },
    {
      "cell_type": "markdown",
      "source": [
        "##### 1. Why did you pick the specific chart?"
      ],
      "metadata": {
        "id": "ylSl6qgtp1ck"
      }
    },
    {
      "cell_type": "markdown",
      "source": [
        "A count plot with hue differentiation is excellent for comparing the distribution of one variable across categories of another variable. Here, we're observing the distribution of special requests across the two hotel types."
      ],
      "metadata": {
        "id": "m2xqNkiQp1ck"
      }
    },
    {
      "cell_type": "markdown",
      "source": [
        "##### 2. What is/are the insight(s) found from the chart?"
      ],
      "metadata": {
        "id": "ZWILFDl5p1ck"
      }
    },
    {
      "cell_type": "markdown",
      "source": [
        "* A large number of bookings, for both city and resort hotels, have zero special requests.\n",
        "* Resort hotels tend to have a slightly higher proportion of bookings with one or more special requests compared to city hotels."
      ],
      "metadata": {
        "id": "x-lUsV2mp1ck"
      }
    },
    {
      "cell_type": "markdown",
      "source": [
        "##### 3. Will the gained insights help creating a positive business impact?\n",
        "Are there any insights that lead to negative growth? Justify with specific reason."
      ],
      "metadata": {
        "id": "M7G43BXep1ck"
      }
    },
    {
      "cell_type": "markdown",
      "source": [
        "Yes. Understanding guest preferences and special requests is key to enhancing the guest experience.\n",
        "* For bookings with special requests, the hotel can ensure that these requests are addressed promptly, leading to higher guest satisfaction.\n",
        "* Training programs can be designed for hotel staff to handle common special requests efficiently.\n",
        "* The fact that resort hotels have more special requests might be indicative of guests seeking a more personalized experience at resort hotels. Recognizing this, resort hotel management can introduce new services or packages catering to these specific needs.\n",
        "\n",
        "On the potential downside, if a large number of special requests are not addressed, it can lead to negative guest reviews and decreased guest loyalty."
      ],
      "metadata": {
        "id": "5wwDJXsLp1cl"
      }
    },
    {
      "cell_type": "markdown",
      "source": [
        "#### Chart - 7: Relationship Between Lead Time and Cancellations"
      ],
      "metadata": {
        "id": "Ag9LCva-p1cl"
      }
    },
    {
      "cell_type": "code",
      "source": [
        "# Plotting the relationship between lead time and cancellations\n",
        "plt.figure(figsize=(10, 7))\n",
        "sns.boxplot(data=dataset_cleaned, x='is_canceled', y='lead_time', palette='viridis')\n",
        "plt.title('Relationship Between Lead Time and Cancellations')\n",
        "plt.ylabel('Lead Time (Days)')\n",
        "plt.xlabel('Booking Canceled')\n",
        "plt.xticks(ticks=[0, 1], labels=['Not Canceled', 'Canceled'])\n",
        "plt.show()"
      ],
      "metadata": {
        "id": "EUfxeq9-p1cl"
      },
      "execution_count": null,
      "outputs": []
    },
    {
      "cell_type": "markdown",
      "source": [
        "##### 1. Why did you pick the specific chart?"
      ],
      "metadata": {
        "id": "E6MkPsBcp1cl"
      }
    },
    {
      "cell_type": "markdown",
      "source": [
        "A box plot is suitable for comparing the distribution of a continuous variable across different categories of a categorical variable. In this case, we wanted to observe the distribution of lead time for both canceled and non-canceled bookings."
      ],
      "metadata": {
        "id": "V22bRsFWp1cl"
      }
    },
    {
      "cell_type": "markdown",
      "source": [
        "##### 2. What is/are the insight(s) found from the chart?"
      ],
      "metadata": {
        "id": "2cELzS2fp1cl"
      }
    },
    {
      "cell_type": "markdown",
      "source": [
        "Bookings that were canceled tend to have a longer lead time compared to those that weren't. The median lead time for canceled bookings is notably higher than for non-canceled ones."
      ],
      "metadata": {
        "id": "ozQPc2_Ip1cl"
      }
    },
    {
      "cell_type": "markdown",
      "source": [
        "##### 3. Will the gained insights help creating a positive business impact?"
      ],
      "metadata": {
        "id": "3MPXvC8up1cl"
      }
    },
    {
      "cell_type": "markdown",
      "source": [
        "The observation that bookings with longer lead times are more likely to be canceled can aid in demand forecasting and resource planning.\n",
        "* Management can be cautious about counting on future revenue from bookings made way in advance, as they carry a higher risk of cancellation.\n",
        "* Special incentives or loyalty programs can be introduced to reduce cancellations for bookings made well in advance.\n",
        "\n",
        "The potential negative impact is on the revenue front. If a significant number of long lead time bookings get canceled, the hotel might lose out on potential revenue, especially if they aren't able to fill those spots with last-minute bookings."
      ],
      "metadata": {
        "id": "GL8l1tdLp1cl"
      }
    },
    {
      "cell_type": "markdown",
      "source": [
        "#### Chart - 8: Total Guests vs. Cancellation"
      ],
      "metadata": {
        "id": "QSwaRx5ZwC9g"
      }
    },
    {
      "cell_type": "code",
      "source": [
        "# Plotting the relationship between total guests and cancellations\n",
        "plt.figure(figsize=(10, 7))\n",
        "sns.boxplot(data=dataset_cleaned, x='is_canceled', y='total_guests', palette='viridis')\n",
        "plt.title('Relationship Between Total Guests and Cancellations')\n",
        "plt.ylabel('Total Guests')\n",
        "plt.xlabel('Booking Canceled')\n",
        "plt.xticks(ticks=[0, 1], labels=['Not Canceled', 'Canceled'])\n",
        "plt.show()"
      ],
      "metadata": {
        "id": "LTygQDuowC9o"
      },
      "execution_count": null,
      "outputs": []
    },
    {
      "cell_type": "markdown",
      "source": [
        "##### 1. Why did you pick the specific chart?"
      ],
      "metadata": {
        "id": "q7QyN8rMwC9p"
      }
    },
    {
      "cell_type": "markdown",
      "source": [
        "A box plot is used here to compare the distribution of total guests for both canceled and non-canceled bookings. It helps in understanding if the number of guests in a booking affects the likelihood of cancellation."
      ],
      "metadata": {
        "id": "Zo8DYKJowC9p"
      }
    },
    {
      "cell_type": "markdown",
      "source": [
        "##### 2. What is/are the insight(s) found from the chart?"
      ],
      "metadata": {
        "id": "cI4yTRxkwC9p"
      }
    },
    {
      "cell_type": "markdown",
      "source": [
        "* The median number of total guests is similar for both canceled and non-canceled bookings.\n",
        "* However, there are more outliers in the non-canceled bookings, indicating that larger group bookings (with more guests) are less likely to be canceled."
      ],
      "metadata": {
        "id": "6XLdbNcowC9p"
      }
    },
    {
      "cell_type": "markdown",
      "source": [
        "##### 3. Will the gained insights help creating a positive business impact?\n",
        "Are there any insights that lead to negative growth? Justify with specific reason."
      ],
      "metadata": {
        "id": "LqeO9iAnwC9p"
      }
    },
    {
      "cell_type": "markdown",
      "source": [
        "The insight that larger group bookings tend to not cancel as frequently can be beneficial for hotel management.\n",
        "* They can prioritize and offer special packages or discounts to larger groups, knowing they're more reliable in terms of cancellations.\n",
        "* Large group bookings also mean more ancillary revenue opportunities, such as dining, events, or other amenities.\n",
        "\n",
        "The potential challenge here is ensuring adequate facilities and services for larger groups to maintain a high-quality guest experience."
      ],
      "metadata": {
        "id": "IQX-7vJtwC9q"
      }
    },
    {
      "cell_type": "markdown",
      "source": [
        "#### Chart - 9: Booking Changes by Hotel Type"
      ],
      "metadata": {
        "id": "9clO-0BVxs4T"
      }
    },
    {
      "cell_type": "code",
      "source": [
        "# Plotting the number of booking changes by hotel type\n",
        "plt.figure(figsize=(12, 7))\n",
        "sns.countplot(data=dataset_cleaned, x='booking_changes', hue='hotel', palette='viridis')\n",
        "plt.title('Number of Booking Changes by Hotel Type')\n",
        "plt.ylabel('Number of Bookings')\n",
        "plt.xlabel('Number of Booking Changes')\n",
        "plt.legend(title='Hotel Type', loc='upper right')\n",
        "plt.show()"
      ],
      "metadata": {
        "id": "ab6tKNn4xs4l"
      },
      "execution_count": null,
      "outputs": []
    },
    {
      "cell_type": "markdown",
      "source": [
        "##### 1. Why did you pick the specific chart?"
      ],
      "metadata": {
        "id": "UdCZeoMNxs4m"
      }
    },
    {
      "cell_type": "markdown",
      "source": [
        "A count plot with hue differentiation is suitable for comparing the distribution of one variable across categories of another variable. Here, we're observing the distribution of booking changes across the two hotel types."
      ],
      "metadata": {
        "id": "Vr01PTGoxs4m"
      }
    },
    {
      "cell_type": "markdown",
      "source": [
        "##### 2. What is/are the insight(s) found from the chart?"
      ],
      "metadata": {
        "id": "KpJa25APxs4m"
      }
    },
    {
      "cell_type": "markdown",
      "source": [
        "* A majority of bookings, for both city and resort hotels, have zero changes after the initial booking.\n",
        "* Resort hotels have a slightly higher proportion of bookings with multiple changes compared to city hotels."
      ],
      "metadata": {
        "id": "tMbE03qbxs4m"
      }
    },
    {
      "cell_type": "markdown",
      "source": [
        "##### 3. Will the gained insights help creating a positive business impact?\n",
        "Are there any insights that lead to negative growth? Justify with specific reason."
      ],
      "metadata": {
        "id": "O84PcwQzxs4m"
      }
    },
    {
      "cell_type": "markdown",
      "source": [
        "Knowing the number of changes made post-booking can assist in operations and guest management.\n",
        "* It helps the hotel anticipate potential changes and be more flexible in accommodating guest requests.\n",
        "* Training programs can be designed for front-desk staff to handle booking changes efficiently and ensure guest satisfaction.\n",
        "\n",
        "The potential challenge is the operational complexity introduced by frequent booking changes. This can lead to overbookings, room allocation challenges, or resource allocation issues."
      ],
      "metadata": {
        "id": "9fNeHc99xs4m"
      }
    },
    {
      "cell_type": "markdown",
      "source": [
        "#### Chart - 10: Booking Repeated Guests"
      ],
      "metadata": {
        "id": "NyFzJWzwbV7n"
      }
    },
    {
      "cell_type": "code",
      "source": [
        "# Plotting the number of repeated guests\n",
        "plt.figure(figsize=(8, 6))\n",
        "sns.countplot(data=dataset_cleaned, x='is_repeated_guest', palette='viridis')\n",
        "plt.title('Number of Repeated Guests')\n",
        "plt.ylabel('Number of Bookings')\n",
        "plt.xlabel('Repeated Guest')\n",
        "plt.xticks(ticks=[0, 1], labels=['First Time Guest', 'Repeated Guest'])\n",
        "plt.show()"
      ],
      "metadata": {
        "id": "SuTUrth1bV7o"
      },
      "execution_count": null,
      "outputs": []
    },
    {
      "cell_type": "markdown",
      "source": [
        "##### 1. Why did you pick the specific chart?"
      ],
      "metadata": {
        "id": "LG6LPsRybV7o"
      }
    },
    {
      "cell_type": "markdown",
      "source": [
        "To check the most satisfied customers in terms of resort preference after first visit"
      ],
      "metadata": {
        "id": "xPZWwuIrbV7o"
      }
    },
    {
      "cell_type": "markdown",
      "source": [
        "##### 2. What is/are the insight(s) found from the chart?"
      ],
      "metadata": {
        "id": "SoQ5yrKlbV7o"
      }
    },
    {
      "cell_type": "markdown",
      "source": [
        "A vast majority are first-time guests."
      ],
      "metadata": {
        "id": "BOllQwXBbV7o"
      }
    },
    {
      "cell_type": "markdown",
      "source": [
        "##### 3. Will the gained insights help creating a positive business impact?\n",
        "Are there any insights that lead to negative growth? Justify with specific reason."
      ],
      "metadata": {
        "id": "AK-uzZ-IbV7p"
      }
    },
    {
      "cell_type": "markdown",
      "source": [
        "Strategies to increase guest loyalty and repeat bookings."
      ],
      "metadata": {
        "id": "2NVhpRWhbV7p"
      }
    },
    {
      "cell_type": "markdown",
      "source": [
        "#### Chart - 23 - Correlation Heatmap"
      ],
      "metadata": {
        "id": "NC_X3p0fY2L0"
      }
    },
    {
      "cell_type": "code",
      "source": [
        "# Compute the correlation matrix\n",
        "corr_matrix = dataset_cleaned.corr()\n",
        "\n",
        "# Plotting the heatmap\n",
        "plt.figure(figsize=(15, 10))\n",
        "sns.heatmap(corr_matrix, annot=True, cmap='coolwarm', linewidths=0.5, fmt=\".2f\")\n",
        "plt.title('Correlation Heatmap')\n",
        "plt.show()"
      ],
      "metadata": {
        "id": "xyC9zolEZNRQ"
      },
      "execution_count": null,
      "outputs": []
    },
    {
      "cell_type": "markdown",
      "source": [
        "##### 1. Why did you pick the specific chart?"
      ],
      "metadata": {
        "id": "UV0SzAkaZNRQ"
      }
    },
    {
      "cell_type": "markdown",
      "source": [
        "A heatmap is an effective way to visualize the correlation matrix, which quantifies the linear relationships between variables. It provides a quick overview, and the color-coded values help easily identify strong correlations."
      ],
      "metadata": {
        "id": "DVPuT8LYZNRQ"
      }
    },
    {
      "cell_type": "markdown",
      "source": [
        "##### 2. What is/are the insight(s) found from the chart?"
      ],
      "metadata": {
        "id": "YPEH6qLeZNRQ"
      }
    },
    {
      "cell_type": "markdown",
      "source": [
        "* lead_time has a positive correlation with is_canceled, indicating that bookings made well in advance are more likely to be canceled.\n",
        "* total_stay (derived feature) is positively correlated with stays_in_week_nights and stays_in_weekend_nights, as expected since it's a sum of these two features.\n",
        "* total_guests (derived feature) is positively correlated with adults, indicating that the majority of the guests are adults."
      ],
      "metadata": {
        "id": "bfSqtnDqZNRR"
      }
    },
    {
      "cell_type": "markdown",
      "source": [
        "#### Chart - 24 - Pair Plot"
      ],
      "metadata": {
        "id": "q29F0dvdveiT"
      }
    },
    {
      "cell_type": "code",
      "source": [
        "# Selecting a subset of columns for the pair plot\n",
        "columns_for_pairplot = ['lead_time', 'total_stay', 'total_guests', 'adr']\n",
        "\n",
        "# Plotting the pair plot\n",
        "sns.pairplot(dataset_cleaned[columns_for_pairplot], kind='scatter', corner=True)\n",
        "plt.suptitle('Pair Plot of Selected Features', y=1.02)\n",
        "plt.show()"
      ],
      "metadata": {
        "id": "o58-TEIhveiU"
      },
      "execution_count": null,
      "outputs": []
    },
    {
      "cell_type": "markdown",
      "source": [
        "##### 1. Why did you pick the specific chart?"
      ],
      "metadata": {
        "id": "EXh0U9oCveiU"
      }
    },
    {
      "cell_type": "markdown",
      "source": [
        "A pair plot provides scatter plots for pairwise relationships in a dataset and is effective in understanding how two numeric variables relate to each other. It gives a comprehensive view of relationships and distributions for multiple variables at once."
      ],
      "metadata": {
        "id": "eMmPjTByveiU"
      }
    },
    {
      "cell_type": "markdown",
      "source": [
        "##### 2. What is/are the insight(s) found from the chart?"
      ],
      "metadata": {
        "id": "22aHeOlLveiV"
      }
    },
    {
      "cell_type": "markdown",
      "source": [
        "* lead_time and adr do not show any clear linear relationship.\n",
        "* total_stay and adr also do not have a pronounced linear relationship, but there's a concentration of data points at lower stay durations and ADRs.\n",
        "* total_guests and adr show a vague positive relationship, suggesting that bookings with more guests might have a slightly higher average daily rate."
      ],
      "metadata": {
        "id": "uPQ8RGwHveiV"
      }
    },
    {
      "cell_type": "markdown",
      "source": [
        "## **5. Solution to Business Objective**"
      ],
      "metadata": {
        "id": "JcMwzZxoAimU"
      }
    },
    {
      "cell_type": "markdown",
      "source": [
        "#### What do you suggest the client to achieve Business Objective ?\n",
        "Explain Briefly."
      ],
      "metadata": {
        "id": "8G2x9gOozGDZ"
      }
    },
    {
      "cell_type": "markdown",
      "source": [
        "1. **Focus on Lead Time**: A significant number of cancellations occur when the lead time is longer. It might be beneficial to provide incentives (like early bird discounts) to customers who book well in advance to reduce the likelihood of cancellations.\n",
        "  \n",
        "2. **Reassess Deposit Policy**: Most of the bookings with the 'Non Refund' deposit type ended up being canceled. The hotel might want to reconsider this policy or provide clearer guidelines to customers about what 'non-refund' entails to prevent potential cancellations.\n",
        "  \n",
        "3. **Special Offers for Repeat Customers**: The majority of bookings are from first-time guests. Providing special offers or loyalty programs for returning customers can encourage more repeat business, which can be more reliable and less likely to cancel.\n",
        "  \n",
        "4. **Evaluate Distribution Channels**: Some channels have a higher likelihood of cancellations. The hotel can re-evaluate partnerships with these channels or consider offering exclusive deals on more reliable channels.\n",
        "  \n",
        "5. **Off-Peak Promotions**: Months like January, November, and December have lower bookings. Consider offering off-peak promotions or packages to attract more guests during these times.\n",
        "  \n",
        "6. **Review Parking Facilities**: A significant number of bookings required parking spaces. Ensuring adequate parking facilities or even offering parking promotions could attract more guests.\n",
        "  \n",
        "7. **Meal Packages**: Most guests preferred the Bed & Breakfast package. Enhancing this package or offering complementary services might increase customer satisfaction and reduce cancellations.\n",
        "  \n",
        "8. **Stay Duration**: Most guests booked short stays. Offering packages or deals for extended stays might increase the average booking duration."
      ],
      "metadata": {
        "id": "pASKb0qOza21"
      }
    },
    {
      "cell_type": "markdown",
      "source": [
        "# **Conclusion**"
      ],
      "metadata": {
        "id": "gCX9965dhzqZ"
      }
    },
    {
      "cell_type": "markdown",
      "source": [
        "The hotel booking dataset provided a comprehensive view of guest preferences, booking patterns, and cancellation tendencies. Through EDA, we identified several key factors influencing bookings and cancellations, such as lead time, deposit type, and booking channels. By addressing these areas, the hotel can potentially reduce cancellations, maximize occupancy, and improve overall guest satisfaction. Implementing data-driven strategies based on the insights from this analysis can lead to more efficient operations and increased profitability for the hotel."
      ],
      "metadata": {
        "id": "Fjb1IsQkh3yE"
      }
    },
    {
      "cell_type": "markdown",
      "source": [
        "### ***Hurrah! You have successfully completed your EDA Capstone Project !!!***"
      ],
      "metadata": {
        "id": "gIfDvo9L0UH2"
      }
    }
  ]
}